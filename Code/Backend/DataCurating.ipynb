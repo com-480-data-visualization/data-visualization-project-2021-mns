{
 "cells": [
  {
   "cell_type": "markdown",
   "id": "f5fd6ffc-f6f9-4c43-bae9-c5888ffa62a9",
   "metadata": {},
   "source": [
    "# BACKEND:\n",
    "- Number of movies per country (movies per genre per country \"on click\")\n",
    "- Best Movies based on ratings per country\n",
    "- Average rating per country\n",
    "- Production companies"
   ]
  },
  {
   "cell_type": "markdown",
   "id": "e94a6393-8248-4506-ac7f-d39bacf689b1",
   "metadata": {},
   "source": [
    "## IMDb data:"
   ]
  },
  {
   "cell_type": "code",
   "execution_count": null,
   "id": "2524502c-0648-40bf-b9db-e25e4752ff94",
   "metadata": {},
   "outputs": [],
   "source": []
  }
 ],
 "metadata": {
  "kernelspec": {
   "display_name": "Python 3",
   "language": "python",
   "name": "python3"
  },
  "language_info": {
   "codemirror_mode": {
    "name": "ipython",
    "version": 3
   },
   "file_extension": ".py",
   "mimetype": "text/x-python",
   "name": "python",
   "nbconvert_exporter": "python",
   "pygments_lexer": "ipython3",
   "version": "3.7.7"
  }
 },
 "nbformat": 4,
 "nbformat_minor": 5
}
